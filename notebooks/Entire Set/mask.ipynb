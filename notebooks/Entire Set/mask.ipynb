{
  "cells": [
    {
      "cell_type": "code",
      "execution_count": null,
      "metadata": {
        "id": "tMAYguWZ1dgz"
      },
      "outputs": [],
      "source": [
        "import rasterio\n",
        "import numpy as np\n",
        "from sklearn.cluster import KMeans\n",
        "from skimage.morphology import remove_small_objects, remove_small_holes\n",
        "import matplotlib.pyplot as plt"
      ]
    },
    {
      "cell_type": "code",
      "execution_count": null,
      "metadata": {
        "id": "ab5M8Cdn1o-y"
      },
      "outputs": [],
      "source": [
        "image_path = \"../data/raw/20241110_053942_45_24f7_3B_AnalyticMS_SR_8b_clip.tif\"\n",
        "output_path = \"../data/raw/20241110_053942_45_24f7_3B_AnalyticMS_SR_8b_clip_Hybrid_mask.tif\""
      ]
    },
    {
      "cell_type": "code",
      "execution_count": null,
      "metadata": {
        "colab": {
          "base_uri": "https://localhost:8080/"
        },
        "id": "5mNZduAX2tEF",
        "outputId": "945183b0-9378-4db3-9336-51018eb80ea7"
      },
      "outputs": [],
      "source": [
        "with rasterio.open(image_path) as src:\n",
        "    img = src.read()\n",
        "    profile = src.profile\n",
        "    print(f\"Loaded {img.shape[0]} bands, shape = {img.shape[1:]}\")\n",
        "green = img[2].astype(float)\n",
        "red = img[4].astype(float)\n",
        "nir = img[6].astype(float)\n",
        "H, W = red.shape\n",
        "ndvi = (nir - red) / (nir + red + 1e-6)\n",
        "brightness = (red + green) / 2.0\n",
        "brightness_norm = (brightness - brightness.min()) / (brightness.max() - brightness.min())\n",
        "mask_ndvi = np.where((ndvi < 0.25) & (brightness_norm > 0.5), 1, 0).astype(np.uint8)\n",
        "bands = np.stack([green, red, nir], axis=-1)  # (H, W, 3)\n",
        "H, W, C = bands.shape\n",
        "print(f\"Bands stacked: {C} channels, image size {H}x{W}\")\n",
        "bands = np.stack([green, red, nir], axis=-1)\n",
        "flat = bands.reshape(-1, 3)\n",
        "flat_norm = (flat - flat.min(axis=0)) / (flat.max(axis=0) - flat.min(axis=0) + 1e-6)\n",
        "kmeans = KMeans(n_clusters=3, random_state=42, n_init=10)\n",
        "labels = kmeans.fit_predict(flat_norm)\n",
        "labels_img = labels.reshape(H, W)\n",
        "mean_ndvi_per_cluster = [\n",
        "    np.mean(ndvi[labels_img == i]) if np.sum(labels_img == i) > 0 else np.inf\n",
        "    for i in range(3)\n",
        "]\n",
        "landslide_cluster = np.argmin(mean_ndvi_per_cluster)\n",
        "mask_kmeans = (labels_img == landslide_cluster).astype(np.uint8)\n",
        "mask_intersection = ((mask_ndvi == 1) & (mask_kmeans == 1)).astype(np.uint8)\n",
        "mask_union = ((mask_ndvi == 1) | (mask_kmeans == 1)).astype(np.uint8)\n",
        "mask_clean = remove_small_objects(mask_union.astype(bool), min_size=100)\n",
        "mask_clean = remove_small_holes(mask_clean, area_threshold=200)\n",
        "mask_clean = mask_clean.astype(np.uint8)"
      ]
    },
    {
      "cell_type": "code",
      "execution_count": null,
      "metadata": {
        "colab": {
          "base_uri": "https://localhost:8080/"
        },
        "id": "HNgg5nFo3IXl",
        "outputId": "fc6bf6c7-ae3b-429d-9dba-3dc6a6fa4085"
      },
      "outputs": [],
      "source": [
        "profile.update(dtype=rasterio.uint8, count=1)\n",
        "with rasterio.open(output_path, \"w\", **profile) as dst:\n",
        "    dst.write(mask_clean, 1)\n",
        "print(f\" Hybrid landslide mask saved to:\\n{output_path}\")"
      ]
    }
  ],
  "metadata": {
    "accelerator": "GPU",
    "colab": {
      "gpuType": "T4",
      "provenance": []
    },
    "kernelspec": {
      "display_name": "Python 3",
      "name": "python3"
    },
    "language_info": {
      "name": "python"
    }
  },
  "nbformat": 4,
  "nbformat_minor": 0
}
