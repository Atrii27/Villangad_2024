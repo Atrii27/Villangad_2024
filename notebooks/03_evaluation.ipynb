{
 "cells": [
  {
   "cell_type": "code",
   "execution_count": 1,
   "id": "d7d46c48",
   "metadata": {},
   "outputs": [],
   "source": [
    "# --- Imports ---\n",
    "import pandas as pd\n",
    "import matplotlib.pyplot as plt\n",
    "import numpy as np\n",
    "from glob import glob\n",
    "import random\n",
    "import matplotlib.image as mpimg\n"
   ]
  },
  {
   "cell_type": "code",
   "execution_count": 7,
   "id": "79326a6a",
   "metadata": {},
   "outputs": [
    {
     "name": "stdout",
     "output_type": "stream",
     "text": [
      "Columns detected: ['model        IoU Precision Recall   F1 ']\n",
      "\n",
      "Preview:\n",
      "    model        IoU Precision Recall   F1 \n",
      "0  unet         0.81      0.85   0.89 0.87 \n",
      "1  resunet      0.83      0.86   0.90 0.88 \n",
      "2  attnunet     0.85      0.87   0.91 0.89 \n",
      "3  attnresunet  0.86      0.88   0.93 0.90 \n",
      "4  asdms_unet   0.87      0.89   0.93 0.91 \n"
     ]
    }
   ],
   "source": [
    "import pandas as pd\n",
    "\n",
    "# Try reading flexibly (tab-separated)\n",
    "metrics = pd.read_csv(\"../outputs/logs/all_model_metrics.txt\", sep=\"\\t\", engine=\"python\")\n",
    "\n",
    "print(\"Columns detected:\", metrics.columns.tolist())\n",
    "print(\"\\nPreview:\")\n",
    "print(metrics.head())\n"
   ]
  },
  {
   "cell_type": "code",
   "execution_count": 8,
   "id": "9087b042",
   "metadata": {},
   "outputs": [
    {
     "name": "stderr",
     "output_type": "stream",
     "text": [
      "C:\\Users\\DELL\\AppData\\Local\\Temp\\ipykernel_12768\\1268424711.py:3: FutureWarning: The 'delim_whitespace' keyword in pd.read_csv is deprecated and will be removed in a future version. Use ``sep='\\s+'`` instead\n",
      "  metrics = pd.read_csv(\n"
     ]
    },
    {
     "data": {
      "text/html": [
       "<div>\n",
       "<style scoped>\n",
       "    .dataframe tbody tr th:only-of-type {\n",
       "        vertical-align: middle;\n",
       "    }\n",
       "\n",
       "    .dataframe tbody tr th {\n",
       "        vertical-align: top;\n",
       "    }\n",
       "\n",
       "    .dataframe thead th {\n",
       "        text-align: right;\n",
       "    }\n",
       "</style>\n",
       "<table border=\"1\" class=\"dataframe\">\n",
       "  <thead>\n",
       "    <tr style=\"text-align: right;\">\n",
       "      <th></th>\n",
       "      <th>model</th>\n",
       "      <th>IoU</th>\n",
       "      <th>Precision</th>\n",
       "      <th>Recall</th>\n",
       "      <th>F1</th>\n",
       "    </tr>\n",
       "  </thead>\n",
       "  <tbody>\n",
       "    <tr>\n",
       "      <th>4</th>\n",
       "      <td>asdms_unet</td>\n",
       "      <td>0.87</td>\n",
       "      <td>0.89</td>\n",
       "      <td>0.93</td>\n",
       "      <td>0.91</td>\n",
       "    </tr>\n",
       "    <tr>\n",
       "      <th>3</th>\n",
       "      <td>attnresunet</td>\n",
       "      <td>0.86</td>\n",
       "      <td>0.88</td>\n",
       "      <td>0.93</td>\n",
       "      <td>0.90</td>\n",
       "    </tr>\n",
       "    <tr>\n",
       "      <th>2</th>\n",
       "      <td>attnunet</td>\n",
       "      <td>0.85</td>\n",
       "      <td>0.87</td>\n",
       "      <td>0.91</td>\n",
       "      <td>0.89</td>\n",
       "    </tr>\n",
       "    <tr>\n",
       "      <th>1</th>\n",
       "      <td>resunet</td>\n",
       "      <td>0.83</td>\n",
       "      <td>0.86</td>\n",
       "      <td>0.90</td>\n",
       "      <td>0.88</td>\n",
       "    </tr>\n",
       "    <tr>\n",
       "      <th>0</th>\n",
       "      <td>unet</td>\n",
       "      <td>0.81</td>\n",
       "      <td>0.85</td>\n",
       "      <td>0.89</td>\n",
       "      <td>0.87</td>\n",
       "    </tr>\n",
       "  </tbody>\n",
       "</table>\n",
       "</div>"
      ],
      "text/plain": [
       "         model   IoU  Precision  Recall    F1\n",
       "4   asdms_unet  0.87       0.89    0.93  0.91\n",
       "3  attnresunet  0.86       0.88    0.93  0.90\n",
       "2     attnunet  0.85       0.87    0.91  0.89\n",
       "1      resunet  0.83       0.86    0.90  0.88\n",
       "0         unet  0.81       0.85    0.89  0.87"
      ]
     },
     "metadata": {},
     "output_type": "display_data"
    }
   ],
   "source": [
    "import pandas as pd\n",
    "\n",
    "metrics = pd.read_csv(\n",
    "    \"../outputs/logs/all_model_metrics.txt\",\n",
    "    delim_whitespace=True,\n",
    "    engine=\"python\"\n",
    ")\n",
    "\n",
    "metrics.sort_values(\"IoU\", ascending=False, inplace=True)\n",
    "display(metrics)\n"
   ]
  },
  {
   "cell_type": "code",
   "execution_count": 9,
   "id": "cb49aa0c",
   "metadata": {},
   "outputs": [
    {
     "data": {
      "image/png": "[encoded data removed]",
      "text/plain": [
       "<Figure size 800x500 with 1 Axes>"
      ]
     },
     "metadata": {},
     "output_type": "display_data"
    }
   ],
   "source": [
    "# --- Bar Plot ---\n",
    "plt.figure(figsize=(8,5))\n",
    "plt.bar(metrics[\"model\"], metrics[\"IoU\"], color=\"skyblue\")\n",
    "plt.title(\"Model IoU Comparison\")\n",
    "plt.ylabel(\"IoU\")\n",
    "plt.xticks(rotation=30)\n",
    "plt.show()"
   ]
  },
  {
   "cell_type": "code",
   "execution_count": 11,
   "id": "1dfa6c87",
   "metadata": {},
   "outputs": [],
   "source": [
    "# --- Optional Overlay Visualization ---\n",
    "# Choose a random prediction overlay (assuming .png overlays exist)\n",
    "overlays = glob(\"../outputs/predictions/**/*.png\", recursive=True)\n",
    "if overlays:\n",
    "    img_path = random.choice(overlays)\n",
    "    img = mpimg.imread(img_path)\n",
    "    plt.imshow(img)\n",
    "    plt.title(f\"Overlay: {os.path.basename(img_path)}\")\n",
    "    plt.axis(\"off\")\n",
    "    plt.show()"
   ]
  }
 ],
 "metadata": {
  "kernelspec": {
   "display_name": "Python 3",
   "language": "python",
   "name": "python3"
  },
  "language_info": {
   "codemirror_mode": {
    "name": "ipython",
    "version": 3
   },
   "file_extension": ".py",
   "mimetype": "text/x-python",
   "name": "python",
   "nbconvert_exporter": "python",
   "pygments_lexer": "ipython3",
   "version": "3.11.2"
  }
 },
 "nbformat": 4,
 "nbformat_minor": 5
}
